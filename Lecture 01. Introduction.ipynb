{
 "cells": [
  {
   "cell_type": "code",
   "execution_count": null,
   "metadata": {
    "collapsed": true,
    "slideshow": {
     "slide_type": "skip"
    }
   },
   "outputs": [],
   "source": []
  },
  {
   "cell_type": "markdown",
   "metadata": {
    "slideshow": {
     "slide_type": "slide"
    }
   },
   "source": [
    "# Simulation and Probabilistic Modeling\n",
    "\n",
    "## Lecture 01. Introduction\n"
   ]
  },
  {
   "cell_type": "markdown",
   "metadata": {
    "slideshow": {
     "slide_type": "slide"
    }
   },
   "source": [
    "## Part I. Welcome and Warm up"
   ]
  },
  {
   "cell_type": "markdown",
   "metadata": {
    "slideshow": {
     "slide_type": "slide"
    }
   },
   "source": [
    "## Who am I?\n",
    "\n",
    "### Xin Wang [(homepage)](https://directory.engr.wisc.edu/ie/Faculty/Wang_Xin/)\n",
    "\n",
    "## Research?\n",
    "\n",
    "### Optimize Logistics System (e.g., vehicle sharing)"
   ]
  },
  {
   "cell_type": "markdown",
   "metadata": {
    "slideshow": {
     "slide_type": "slide"
    }
   },
   "source": [
    "## Our TA\n",
    "\n",
    "### Xiaotian Wang"
   ]
  },
  {
   "cell_type": "markdown",
   "metadata": {
    "slideshow": {
     "slide_type": "slide"
    }
   },
   "source": [
    "#### Happy summer highlight \n",
    "\n",
    "# Your Name\n",
    "#### (Preferred pronoun: She/He/They) \n",
    "\n",
    "#### Your Department\n"
   ]
  },
  {
   "cell_type": "markdown",
   "metadata": {
    "slideshow": {
     "slide_type": "slide"
    }
   },
   "source": [
    "## 10 min group discussion"
   ]
  },
  {
   "cell_type": "markdown",
   "metadata": {
    "slideshow": {
     "slide_type": "slide"
    }
   },
   "source": [
    "## Help me know about you\n",
    "\n",
    "## 10 min survey"
   ]
  },
  {
   "cell_type": "markdown",
   "metadata": {
    "slideshow": {
     "slide_type": "slide"
    }
   },
   "source": [
    "## Now let's go to the syllabus\n",
    "### I know it is tedious"
   ]
  },
  {
   "cell_type": "markdown",
   "metadata": {
    "slideshow": {
     "slide_type": "fragment"
    }
   },
   "source": [
    "### But it is important!"
   ]
  },
  {
   "cell_type": "markdown",
   "metadata": {
    "slideshow": {
     "slide_type": "fragment"
    }
   },
   "source": [
    "## Please CAREFULLY go through it, and discuss in group\n",
    "\n",
    "## 15 min "
   ]
  },
  {
   "cell_type": "markdown",
   "metadata": {
    "slideshow": {
     "slide_type": "slide"
    }
   },
   "source": [
    "## Questions?"
   ]
  },
  {
   "cell_type": "markdown",
   "metadata": {
    "slideshow": {
     "slide_type": "slide"
    }
   },
   "source": [
    "## Part II. Course Review"
   ]
  },
  {
   "cell_type": "markdown",
   "metadata": {
    "slideshow": {
     "slide_type": "slide"
    }
   },
   "source": [
    "## What is a system?"
   ]
  },
  {
   "cell_type": "markdown",
   "metadata": {
    "slideshow": {
     "slide_type": "fragment"
    }
   },
   "source": [
    "<img src=\"files/newton.jpg\", width=400, height=400>"
   ]
  },
  {
   "cell_type": "markdown",
   "metadata": {
    "slideshow": {
     "slide_type": "slide"
    }
   },
   "source": [
    "## The definition of system is very broad\n",
    "- We can say, everything in the universe forms a system, even something we don't know. This is trivial."
   ]
  },
  {
   "cell_type": "markdown",
   "metadata": {
    "slideshow": {
     "slide_type": "fragment"
    }
   },
   "source": [
    "## In fact, we mean a sub-system\n",
    "- You choose something to care about, and ignore all the rest"
   ]
  },
  {
   "cell_type": "markdown",
   "metadata": {
    "slideshow": {
     "slide_type": "slide"
    }
   },
   "source": [
    "## For example\n",
    "- An apple-Newton system!\n",
    "<img src=\"files/apple_sys.png\", width=400, height=400>\n"
   ]
  },
  {
   "cell_type": "markdown",
   "metadata": {
    "slideshow": {
     "slide_type": "slide"
    }
   },
   "source": [
    "## So care about what? \n",
    "- Changes! Especially over time.\n",
    "\n",
    "## What is changing?\n",
    "- Some properties, say location of the apple.\n",
    "\n",
    "## Such properties are often called \"state\""
   ]
  },
  {
   "cell_type": "markdown",
   "metadata": {
    "slideshow": {
     "slide_type": "slide"
    }
   },
   "source": [
    "## Now we can be a little bit abstract\n",
    "<img src=\"files/system.png\", width=250, height=250>\n",
    "- Boundaries (of system): your choice of what to care about\n",
    "- Surroundings: you choose to not care about \n",
    "- Input: impact from surroundings on system, but not affect surroundings\n",
    "- Output: impact from system on surroundings, but not affect surroundings"
   ]
  },
  {
   "cell_type": "markdown",
   "metadata": {
    "slideshow": {
     "slide_type": "slide"
    }
   },
   "source": [
    "## Consider the following scenario\n",
    "- Input is given (e.g., drop of an apple)\n",
    "- You can adjust the components of the system (e.g., your head)\n",
    "- Output is some goals (e.g., not be hit by the apple)"
   ]
  },
  {
   "cell_type": "markdown",
   "metadata": {
    "slideshow": {
     "slide_type": "slide"
    }
   },
   "source": [
    "## This is useful because we are human beings\n",
    "- We feel (input), we act (adjust system), and we achieve (output)"
   ]
  },
  {
   "cell_type": "markdown",
   "metadata": {
    "collapsed": true,
    "slideshow": {
     "slide_type": "slide"
    }
   },
   "source": [
    "## When the system is simple\n",
    "- We normally know how to adjust the system to achieve the output.\n",
    "- E.g., you can avoid hitting by the apple since you know gravity.\n",
    "- Such system is normally analytical, i.e., the output can be obtained by explicit functions (e.g., the law of gravity)."
   ]
  },
  {
   "cell_type": "markdown",
   "metadata": {
    "slideshow": {
     "slide_type": "slide"
    }
   },
   "source": [
    "## When the system is harder\n",
    "- We don't know how to achieve the output, but we may know how the output is affected by the input and system.\n",
    "- So we may achieve the output by keep adjusting the system under different input (**SIMULATE**).\n",
    "- E.g., you don't know gravity, but you try to stand at different locations and learn how to best avoid hitting. "
   ]
  },
  {
   "cell_type": "markdown",
   "metadata": {
    "slideshow": {
     "slide_type": "slide"
    }
   },
   "source": [
    "## Even harder...\n",
    "- We don't know how the output is affected\n",
    "- So we don't know how to improve. \n",
    "- Good luck for your head!"
   ]
  },
  {
   "cell_type": "markdown",
   "metadata": {
    "slideshow": {
     "slide_type": "slide"
    }
   },
   "source": [
    "## Some interesting examples of simulation\n",
    "- [Autonomous Vehicle](https://www.youtube.com/watch?v=DCpwz21WY1Q)\n",
    "- [Manufacturing](https://www.youtube.com/watch?v=ZUGo08dynYY)\n",
    "- [Deepmind](https://www.youtube.com/watch?v=faDKMMwOS2Q)\n",
    "- [Traffic Simulation](https://www.youtube.com/watch?v=0PKdKJ4O0IM)"
   ]
  },
  {
   "cell_type": "markdown",
   "metadata": {
    "slideshow": {
     "slide_type": "slide"
    }
   },
   "source": [
    "## The focus of this course\n",
    "- Harder system, specifically, stochastic system\n",
    "- How should we use simulation to improve our system, achieving a better goal of output"
   ]
  },
  {
   "cell_type": "markdown",
   "metadata": {
    "slideshow": {
     "slide_type": "slide"
    }
   },
   "source": [
    "## Simulation pros and cons\n",
    "- Pros: faster and cheaper than real trial and error\n",
    "- Cons: maybe inaccurate, even infeasible in reality"
   ]
  },
  {
   "cell_type": "markdown",
   "metadata": {
    "slideshow": {
     "slide_type": "slide"
    }
   },
   "source": [
    "## Skill sets\n",
    "- Establishing simulation system\n",
    "- Generate input\n",
    "- Evaluate output\n",
    "- Develop analytical models"
   ]
  },
  {
   "cell_type": "markdown",
   "metadata": {
    "slideshow": {
     "slide_type": "slide"
    }
   },
   "source": [
    "## Part III. Installing Jupyter Notebook"
   ]
  },
  {
   "cell_type": "markdown",
   "metadata": {
    "slideshow": {
     "slide_type": "slide"
    }
   },
   "source": [
    "## Software link\n",
    "- https://www.anaconda.com/download/\n",
    "- Please select the Python 2.7 version according to your OS platform (Win/Mac/Linux)\n",
    "- Install immediately after class, we will use it in class from next Monday"
   ]
  },
  {
   "cell_type": "code",
   "execution_count": null,
   "metadata": {
    "collapsed": true,
    "slideshow": {
     "slide_type": "skip"
    }
   },
   "outputs": [],
   "source": []
  }
 ],
 "metadata": {
  "celltoolbar": "Slideshow",
  "kernelspec": {
   "display_name": "Python 2",
   "language": "python",
   "name": "python2"
  },
  "language_info": {
   "codemirror_mode": {
    "name": "ipython",
    "version": 2
   },
   "file_extension": ".py",
   "mimetype": "text/x-python",
   "name": "python",
   "nbconvert_exporter": "python",
   "pygments_lexer": "ipython2",
   "version": "2.7.13"
  }
 },
 "nbformat": 4,
 "nbformat_minor": 2
}
